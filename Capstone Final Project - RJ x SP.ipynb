{
 "cells": [
  {
   "cell_type": "markdown",
   "metadata": {},
   "source": [
    "# Rio or São Paulo? What is the best city to invest in?\n",
    "\n",
    "#### English\n",
    "\n",
    "## Introduction\n",
    "Rio de Janeiro and São Paulo are two cities with the highest international visibility and the highest concentration of resources and tourists in Brazil. However, each city has its peculiarities and eventually the best branches to inject money. A considerable question from foreign investors would be which city is the best one to invest in a given area, given these particularities.\n",
    "\n",
    "\n",
    "## How\n",
    "Using a simple location and latitude and longitude we use the center of both cities and with the help of FourSquare we will use a radius of 1km to locate the most frequent developments in that area and thus, through clustering, form clusters to assist in decision making of investors.\n",
    "\n",
    "* Coordenadas de São Paulo: -23.54935952701981, -46.63353671804132\n",
    "* Coordenadas do Rio de Janeiro: -22.90696895317216, -43.18232365380074"
   ]
  },
  {
   "cell_type": "code",
   "execution_count": null,
   "metadata": {},
   "outputs": [],
   "source": []
  }
 ],
 "metadata": {
  "kernelspec": {
   "display_name": "Python 3",
   "language": "python",
   "name": "python3"
  },
  "language_info": {
   "codemirror_mode": {
    "name": "ipython",
    "version": 3
   },
   "file_extension": ".py",
   "mimetype": "text/x-python",
   "name": "python",
   "nbconvert_exporter": "python",
   "pygments_lexer": "ipython3",
   "version": "3.8.5"
  }
 },
 "nbformat": 4,
 "nbformat_minor": 4
}
